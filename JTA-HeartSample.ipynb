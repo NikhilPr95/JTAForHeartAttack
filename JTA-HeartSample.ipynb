{
 "cells": [
  {
   "cell_type": "code",
   "execution_count": 1,
   "id": "killing-highway",
   "metadata": {},
   "outputs": [],
   "source": [
    "import matplotlib.pyplot as plt\n",
    "from mpl_toolkits.mplot3d.axes3d import Axes3D\n",
    "\n",
    "import itertools\n",
    "from itertools import product\n",
    "\n",
    "import networkx as nx\n",
    "import pandas as pd\n",
    "import numpy as np\n",
    "\n",
    "from pgmpy.models import BayesianModel\n",
    "from pgmpy.inference import BeliefPropagation\n",
    "from pgmpy.inference import VariableElimination"
   ]
  },
  {
   "cell_type": "code",
   "execution_count": 2,
   "id": "occupational-mexican",
   "metadata": {},
   "outputs": [],
   "source": [
    "data = pd.read_csv('heart.csv')\n",
    "data = data.drop('slope', axis=1)\n",
    "data = data.drop('age', axis=1)\n",
    "data = data.drop('sex', axis=1)"
   ]
  },
  {
   "cell_type": "markdown",
   "id": "contemporary-movement",
   "metadata": {},
   "source": [
    "### Full Dataset"
   ]
  },
  {
   "cell_type": "code",
   "execution_count": 3,
   "id": "sitting-internship",
   "metadata": {},
   "outputs": [
    {
     "data": {
      "text/html": [
       "<div>\n",
       "<style scoped>\n",
       "    .dataframe tbody tr th:only-of-type {\n",
       "        vertical-align: middle;\n",
       "    }\n",
       "\n",
       "    .dataframe tbody tr th {\n",
       "        vertical-align: top;\n",
       "    }\n",
       "\n",
       "    .dataframe thead th {\n",
       "        text-align: right;\n",
       "    }\n",
       "</style>\n",
       "<table border=\"1\" class=\"dataframe\">\n",
       "  <thead>\n",
       "    <tr style=\"text-align: right;\">\n",
       "      <th></th>\n",
       "      <th>cp</th>\n",
       "      <th>trestbps</th>\n",
       "      <th>chol</th>\n",
       "      <th>fbs</th>\n",
       "      <th>restecg</th>\n",
       "      <th>thalach</th>\n",
       "      <th>exang</th>\n",
       "      <th>oldpeak</th>\n",
       "      <th>ca</th>\n",
       "      <th>thal</th>\n",
       "      <th>target</th>\n",
       "    </tr>\n",
       "  </thead>\n",
       "  <tbody>\n",
       "    <tr>\n",
       "      <th>0</th>\n",
       "      <td>3</td>\n",
       "      <td>145</td>\n",
       "      <td>233</td>\n",
       "      <td>1</td>\n",
       "      <td>0</td>\n",
       "      <td>150</td>\n",
       "      <td>0</td>\n",
       "      <td>2.3</td>\n",
       "      <td>0</td>\n",
       "      <td>1</td>\n",
       "      <td>1</td>\n",
       "    </tr>\n",
       "    <tr>\n",
       "      <th>1</th>\n",
       "      <td>2</td>\n",
       "      <td>130</td>\n",
       "      <td>250</td>\n",
       "      <td>0</td>\n",
       "      <td>1</td>\n",
       "      <td>187</td>\n",
       "      <td>0</td>\n",
       "      <td>3.5</td>\n",
       "      <td>0</td>\n",
       "      <td>2</td>\n",
       "      <td>1</td>\n",
       "    </tr>\n",
       "    <tr>\n",
       "      <th>2</th>\n",
       "      <td>1</td>\n",
       "      <td>130</td>\n",
       "      <td>204</td>\n",
       "      <td>0</td>\n",
       "      <td>0</td>\n",
       "      <td>172</td>\n",
       "      <td>0</td>\n",
       "      <td>1.4</td>\n",
       "      <td>0</td>\n",
       "      <td>2</td>\n",
       "      <td>1</td>\n",
       "    </tr>\n",
       "    <tr>\n",
       "      <th>3</th>\n",
       "      <td>1</td>\n",
       "      <td>120</td>\n",
       "      <td>236</td>\n",
       "      <td>0</td>\n",
       "      <td>1</td>\n",
       "      <td>178</td>\n",
       "      <td>0</td>\n",
       "      <td>0.8</td>\n",
       "      <td>0</td>\n",
       "      <td>2</td>\n",
       "      <td>1</td>\n",
       "    </tr>\n",
       "    <tr>\n",
       "      <th>4</th>\n",
       "      <td>0</td>\n",
       "      <td>120</td>\n",
       "      <td>354</td>\n",
       "      <td>0</td>\n",
       "      <td>1</td>\n",
       "      <td>163</td>\n",
       "      <td>1</td>\n",
       "      <td>0.6</td>\n",
       "      <td>0</td>\n",
       "      <td>2</td>\n",
       "      <td>1</td>\n",
       "    </tr>\n",
       "    <tr>\n",
       "      <th>...</th>\n",
       "      <td>...</td>\n",
       "      <td>...</td>\n",
       "      <td>...</td>\n",
       "      <td>...</td>\n",
       "      <td>...</td>\n",
       "      <td>...</td>\n",
       "      <td>...</td>\n",
       "      <td>...</td>\n",
       "      <td>...</td>\n",
       "      <td>...</td>\n",
       "      <td>...</td>\n",
       "    </tr>\n",
       "    <tr>\n",
       "      <th>298</th>\n",
       "      <td>0</td>\n",
       "      <td>140</td>\n",
       "      <td>241</td>\n",
       "      <td>0</td>\n",
       "      <td>1</td>\n",
       "      <td>123</td>\n",
       "      <td>1</td>\n",
       "      <td>0.2</td>\n",
       "      <td>0</td>\n",
       "      <td>3</td>\n",
       "      <td>0</td>\n",
       "    </tr>\n",
       "    <tr>\n",
       "      <th>299</th>\n",
       "      <td>3</td>\n",
       "      <td>110</td>\n",
       "      <td>264</td>\n",
       "      <td>0</td>\n",
       "      <td>1</td>\n",
       "      <td>132</td>\n",
       "      <td>0</td>\n",
       "      <td>1.2</td>\n",
       "      <td>0</td>\n",
       "      <td>3</td>\n",
       "      <td>0</td>\n",
       "    </tr>\n",
       "    <tr>\n",
       "      <th>300</th>\n",
       "      <td>0</td>\n",
       "      <td>144</td>\n",
       "      <td>193</td>\n",
       "      <td>1</td>\n",
       "      <td>1</td>\n",
       "      <td>141</td>\n",
       "      <td>0</td>\n",
       "      <td>3.4</td>\n",
       "      <td>2</td>\n",
       "      <td>3</td>\n",
       "      <td>0</td>\n",
       "    </tr>\n",
       "    <tr>\n",
       "      <th>301</th>\n",
       "      <td>0</td>\n",
       "      <td>130</td>\n",
       "      <td>131</td>\n",
       "      <td>0</td>\n",
       "      <td>1</td>\n",
       "      <td>115</td>\n",
       "      <td>1</td>\n",
       "      <td>1.2</td>\n",
       "      <td>1</td>\n",
       "      <td>3</td>\n",
       "      <td>0</td>\n",
       "    </tr>\n",
       "    <tr>\n",
       "      <th>302</th>\n",
       "      <td>1</td>\n",
       "      <td>130</td>\n",
       "      <td>236</td>\n",
       "      <td>0</td>\n",
       "      <td>0</td>\n",
       "      <td>174</td>\n",
       "      <td>0</td>\n",
       "      <td>0.0</td>\n",
       "      <td>1</td>\n",
       "      <td>2</td>\n",
       "      <td>0</td>\n",
       "    </tr>\n",
       "  </tbody>\n",
       "</table>\n",
       "<p>303 rows × 11 columns</p>\n",
       "</div>"
      ],
      "text/plain": [
       "     cp  trestbps  chol  fbs  restecg  thalach  exang  oldpeak  ca  thal  \\\n",
       "0     3       145   233    1        0      150      0      2.3   0     1   \n",
       "1     2       130   250    0        1      187      0      3.5   0     2   \n",
       "2     1       130   204    0        0      172      0      1.4   0     2   \n",
       "3     1       120   236    0        1      178      0      0.8   0     2   \n",
       "4     0       120   354    0        1      163      1      0.6   0     2   \n",
       "..   ..       ...   ...  ...      ...      ...    ...      ...  ..   ...   \n",
       "298   0       140   241    0        1      123      1      0.2   0     3   \n",
       "299   3       110   264    0        1      132      0      1.2   0     3   \n",
       "300   0       144   193    1        1      141      0      3.4   2     3   \n",
       "301   0       130   131    0        1      115      1      1.2   1     3   \n",
       "302   1       130   236    0        0      174      0      0.0   1     2   \n",
       "\n",
       "     target  \n",
       "0         1  \n",
       "1         1  \n",
       "2         1  \n",
       "3         1  \n",
       "4         1  \n",
       "..      ...  \n",
       "298       0  \n",
       "299       0  \n",
       "300       0  \n",
       "301       0  \n",
       "302       0  \n",
       "\n",
       "[303 rows x 11 columns]"
      ]
     },
     "execution_count": 3,
     "metadata": {},
     "output_type": "execute_result"
    }
   ],
   "source": [
    "data"
   ]
  },
  {
   "cell_type": "code",
   "execution_count": 4,
   "id": "worthy-stupid",
   "metadata": {},
   "outputs": [],
   "source": [
    "# Function to plot network using matplotlib plt. Size is argument - takes in belief/markov networks\n",
    "def display(graph, size=4):\n",
    "    pos = nx.circular_layout(graph)\n",
    "    plt.figure(3,figsize=(4,4)) \n",
    "    nx.draw(graph, pos, with_labels=True)\n",
    "    plt.show()"
   ]
  },
  {
   "cell_type": "code",
   "execution_count": 5,
   "id": "aerial-current",
   "metadata": {},
   "outputs": [],
   "source": [
    "# Takes in belief networks and emits graph skeleton\n",
    "def graph_skeleton(bn):\n",
    "    gs = nx.Graph()\n",
    "    gs.add_nodes_from(bn.nodes())\n",
    "    gs.add_edges_from(bn.edges())\n",
    "        \n",
    "    return gs"
   ]
  },
  {
   "cell_type": "code",
   "execution_count": 6,
   "id": "british-recommendation",
   "metadata": {},
   "outputs": [],
   "source": [
    "# Moralizes graph - connects all unconnected parents of any child\n",
    "def moralize(bn):\n",
    "    def get_parents(node):\n",
    "        return [x[0] for x in bn.in_edges(node)]\n",
    "    \n",
    "    nodes = bn.nodes()\n",
    "    mn = nx.Graph()\n",
    "    mn.add_nodes_from(nodes)\n",
    "    \n",
    "    for node in nodes:\n",
    "        parents = get_parents(node)\n",
    "#         print(node, parents)\n",
    "        \n",
    "        for par in parents:\n",
    "            mn.add_edge(node, par)\n",
    "            \n",
    "        for par_pair in itertools.combinations(parents, 2):\n",
    "            if not mn.has_edge(par_pair[0], par_pair[1]):\n",
    "                mn.add_edge(par_pair[0], par_pair[1])\n",
    "        \n",
    "    return mn"
   ]
  },
  {
   "cell_type": "code",
   "execution_count": 7,
   "id": "disciplinary-stress",
   "metadata": {},
   "outputs": [],
   "source": [
    "# Gets the factor table of variable elimination variable in 2D list format. See below - This is usually printed directly as a string, I wrote a function from the source code to get the values for printing\n",
    "def get_factortable(df):\n",
    "    print_state_names = False\n",
    "    value_index = 0\n",
    "    factor_table = []\n",
    "    for prob in product(*[range(card) for card in df.cardinality]):\n",
    "        if df.state_names and print_state_names:\n",
    "            prob_list = [\n",
    "                \"{var}({state})\".format(\n",
    "                    var=list(df.variables)[i],\n",
    "                    state=df.state_names[list(df.variables)[i]][prob[i]],\n",
    "                )\n",
    "                for i in range(len(df.variables))\n",
    "            ]\n",
    "        else:\n",
    "            prob_list = [\n",
    "                prob[i]\n",
    "#                 f\"{list(df.variables)[i]}_{prob[i]}\"\n",
    "                for i in range(len(df.variables))\n",
    "            ]\n",
    "\n",
    "        prob_list.append(df.values.ravel()[value_index])\n",
    "        factor_table.append(prob_list)\n",
    "        value_index += 1\n",
    "        \n",
    "    return factor_table"
   ]
  },
  {
   "cell_type": "code",
   "execution_count": 8,
   "id": "million-workstation",
   "metadata": {},
   "outputs": [],
   "source": [
    "# Plots factor table with 2 input variables - and 1 output (representing probability) in a 3d plot\n",
    "def plot_2vars(ft):\n",
    "    x = [f[0] for f in ft]\n",
    "    y = [f[1] for f in ft]\n",
    "    z = [f[2] for f in ft]    \n",
    "    xs, ys = np.array(x), np.array(y)\n",
    "    zs = np.array(z)\n",
    "    fig = plt.figure()\n",
    "    ax = Axes3D(fig)\n",
    "    ax.scatter(xs, ys, zs)\n",
    "    plt.show()"
   ]
  },
  {
   "cell_type": "code",
   "execution_count": 9,
   "id": "registered-vessel",
   "metadata": {},
   "outputs": [],
   "source": [
    "# Plots factor table with 3 input variables - and 1 output (representing probability) in a 3d plot\n",
    "def plot_3vars(ft):\n",
    "    x = [f[0] for f in ft]\n",
    "    y = [f[1] for f in ft]\n",
    "    z = [f[2] for f in ft]\n",
    "    c = [f[3] for f in ft]\n",
    "\n",
    "    fig = plt.figure()\n",
    "    ax = fig.add_subplot(111, projection='3d')\n",
    "    img = ax.scatter(x, y, z, c=c, cmap=plt.hot())\n",
    "    fig.colorbar(img)\n",
    "    plt.show()"
   ]
  },
  {
   "cell_type": "code",
   "execution_count": null,
   "id": "immediate-workshop",
   "metadata": {},
   "outputs": [],
   "source": []
  },
  {
   "cell_type": "code",
   "execution_count": null,
   "id": "hollywood-gauge",
   "metadata": {},
   "outputs": [],
   "source": []
  },
  {
   "cell_type": "markdown",
   "id": "confident-lightning",
   "metadata": {},
   "source": [
    "### Working Code on Sample data"
   ]
  },
  {
   "cell_type": "markdown",
   "id": "bored-heritage",
   "metadata": {},
   "source": [
    "#### Subset of graph"
   ]
  },
  {
   "cell_type": "code",
   "execution_count": 10,
   "id": "employed-collection",
   "metadata": {},
   "outputs": [],
   "source": [
    "feat_graph_heart = {'cp': [], 'trestbps': ['chol', 'fbs'], 'chol': ['fbs'], 'fbs': [], 'restecg': ['chol', 'fbs'], 'target': ['cp', 'trestbps', 'chol', 'restecg']}"
   ]
  },
  {
   "cell_type": "markdown",
   "id": "moving-wisdom",
   "metadata": {},
   "source": [
    "#### Belief network of that graph"
   ]
  },
  {
   "cell_type": "code",
   "execution_count": 11,
   "id": "political-healthcare",
   "metadata": {},
   "outputs": [],
   "source": [
    "bn_heart = nx.DiGraph()\n",
    "bn_heart.add_nodes_from(feat_graph_heart.keys())\n",
    "\n",
    "for k, v in feat_graph_heart.items():\n",
    "    bn_heart.add_edges_from(([(t, k) for t in v]))"
   ]
  },
  {
   "cell_type": "markdown",
   "id": "medium-devices",
   "metadata": {},
   "source": [
    "#### Bayesian model of belief network"
   ]
  },
  {
   "cell_type": "code",
   "execution_count": 12,
   "id": "complicated-northeast",
   "metadata": {},
   "outputs": [],
   "source": [
    "bn_heart_model = BayesianModel(bn_heart.edges())"
   ]
  },
  {
   "cell_type": "markdown",
   "id": "judicial-trading",
   "metadata": {},
   "source": [
    "#### Data subset corresponding to graph subset"
   ]
  },
  {
   "cell_type": "code",
   "execution_count": 13,
   "id": "spoken-profit",
   "metadata": {},
   "outputs": [],
   "source": [
    "data_heart = data[['cp', 'trestbps', 'chol', 'fbs', 'restecg', 'target']]"
   ]
  },
  {
   "cell_type": "code",
   "execution_count": 14,
   "id": "hundred-magazine",
   "metadata": {},
   "outputs": [
    {
     "data": {
      "text/html": [
       "<div>\n",
       "<style scoped>\n",
       "    .dataframe tbody tr th:only-of-type {\n",
       "        vertical-align: middle;\n",
       "    }\n",
       "\n",
       "    .dataframe tbody tr th {\n",
       "        vertical-align: top;\n",
       "    }\n",
       "\n",
       "    .dataframe thead th {\n",
       "        text-align: right;\n",
       "    }\n",
       "</style>\n",
       "<table border=\"1\" class=\"dataframe\">\n",
       "  <thead>\n",
       "    <tr style=\"text-align: right;\">\n",
       "      <th></th>\n",
       "      <th>cp</th>\n",
       "      <th>trestbps</th>\n",
       "      <th>chol</th>\n",
       "      <th>fbs</th>\n",
       "      <th>restecg</th>\n",
       "      <th>target</th>\n",
       "    </tr>\n",
       "  </thead>\n",
       "  <tbody>\n",
       "    <tr>\n",
       "      <th>0</th>\n",
       "      <td>3</td>\n",
       "      <td>145</td>\n",
       "      <td>233</td>\n",
       "      <td>1</td>\n",
       "      <td>0</td>\n",
       "      <td>1</td>\n",
       "    </tr>\n",
       "    <tr>\n",
       "      <th>1</th>\n",
       "      <td>2</td>\n",
       "      <td>130</td>\n",
       "      <td>250</td>\n",
       "      <td>0</td>\n",
       "      <td>1</td>\n",
       "      <td>1</td>\n",
       "    </tr>\n",
       "    <tr>\n",
       "      <th>2</th>\n",
       "      <td>1</td>\n",
       "      <td>130</td>\n",
       "      <td>204</td>\n",
       "      <td>0</td>\n",
       "      <td>0</td>\n",
       "      <td>1</td>\n",
       "    </tr>\n",
       "    <tr>\n",
       "      <th>3</th>\n",
       "      <td>1</td>\n",
       "      <td>120</td>\n",
       "      <td>236</td>\n",
       "      <td>0</td>\n",
       "      <td>1</td>\n",
       "      <td>1</td>\n",
       "    </tr>\n",
       "    <tr>\n",
       "      <th>4</th>\n",
       "      <td>0</td>\n",
       "      <td>120</td>\n",
       "      <td>354</td>\n",
       "      <td>0</td>\n",
       "      <td>1</td>\n",
       "      <td>1</td>\n",
       "    </tr>\n",
       "    <tr>\n",
       "      <th>...</th>\n",
       "      <td>...</td>\n",
       "      <td>...</td>\n",
       "      <td>...</td>\n",
       "      <td>...</td>\n",
       "      <td>...</td>\n",
       "      <td>...</td>\n",
       "    </tr>\n",
       "    <tr>\n",
       "      <th>298</th>\n",
       "      <td>0</td>\n",
       "      <td>140</td>\n",
       "      <td>241</td>\n",
       "      <td>0</td>\n",
       "      <td>1</td>\n",
       "      <td>0</td>\n",
       "    </tr>\n",
       "    <tr>\n",
       "      <th>299</th>\n",
       "      <td>3</td>\n",
       "      <td>110</td>\n",
       "      <td>264</td>\n",
       "      <td>0</td>\n",
       "      <td>1</td>\n",
       "      <td>0</td>\n",
       "    </tr>\n",
       "    <tr>\n",
       "      <th>300</th>\n",
       "      <td>0</td>\n",
       "      <td>144</td>\n",
       "      <td>193</td>\n",
       "      <td>1</td>\n",
       "      <td>1</td>\n",
       "      <td>0</td>\n",
       "    </tr>\n",
       "    <tr>\n",
       "      <th>301</th>\n",
       "      <td>0</td>\n",
       "      <td>130</td>\n",
       "      <td>131</td>\n",
       "      <td>0</td>\n",
       "      <td>1</td>\n",
       "      <td>0</td>\n",
       "    </tr>\n",
       "    <tr>\n",
       "      <th>302</th>\n",
       "      <td>1</td>\n",
       "      <td>130</td>\n",
       "      <td>236</td>\n",
       "      <td>0</td>\n",
       "      <td>0</td>\n",
       "      <td>0</td>\n",
       "    </tr>\n",
       "  </tbody>\n",
       "</table>\n",
       "<p>303 rows × 6 columns</p>\n",
       "</div>"
      ],
      "text/plain": [
       "     cp  trestbps  chol  fbs  restecg  target\n",
       "0     3       145   233    1        0       1\n",
       "1     2       130   250    0        1       1\n",
       "2     1       130   204    0        0       1\n",
       "3     1       120   236    0        1       1\n",
       "4     0       120   354    0        1       1\n",
       "..   ..       ...   ...  ...      ...     ...\n",
       "298   0       140   241    0        1       0\n",
       "299   3       110   264    0        1       0\n",
       "300   0       144   193    1        1       0\n",
       "301   0       130   131    0        1       0\n",
       "302   1       130   236    0        0       0\n",
       "\n",
       "[303 rows x 6 columns]"
      ]
     },
     "execution_count": 14,
     "metadata": {},
     "output_type": "execute_result"
    }
   ],
   "source": [
    "data_heart"
   ]
  },
  {
   "cell_type": "code",
   "execution_count": 15,
   "id": "monthly-antenna",
   "metadata": {},
   "outputs": [],
   "source": [
    "dheart_sample = data_heart.sample(frac=0.03)"
   ]
  },
  {
   "cell_type": "code",
   "execution_count": 16,
   "id": "brutal-medium",
   "metadata": {},
   "outputs": [
    {
     "data": {
      "image/png": "[encoded data removed]",
      "text/plain": [
       "<Figure size 288x288 with 1 Axes>"
      ]
     },
     "metadata": {},
     "output_type": "display_data"
    }
   ],
   "source": [
    "# Displays belief network\n",
    "display(bn_heart)"
   ]
  },
  {
   "cell_type": "code",
   "execution_count": 17,
   "id": "detailed-outdoors",
   "metadata": {},
   "outputs": [
    {
     "data": {
      "image/png": "[encoded data removed]",
      "text/plain": [
       "<Figure size 288x288 with 1 Axes>"
      ]
     },
     "metadata": {},
     "output_type": "display_data"
    }
   ],
   "source": [
    "# Displays Markov Network\n",
    "mn_heart = moralize(bn_heart)\n",
    "display(mn_heart)"
   ]
  },
  {
   "cell_type": "code",
   "execution_count": 19,
   "id": "elegant-spyware",
   "metadata": {},
   "outputs": [
    {
     "data": {
      "image/png": "[encoded data removed]",
      "text/plain": [
       "<Figure size 288x288 with 1 Axes>"
      ]
     },
     "metadata": {},
     "output_type": "display_data"
    }
   ],
   "source": [
    "# Displays graph skeleton\n",
    "bn_heart_skeleton = graph_skeleton(bn_heart)\n",
    "display(bn_heart_skeleton)"
   ]
  },
  {
   "cell_type": "code",
   "execution_count": 20,
   "id": "requested-suspension",
   "metadata": {},
   "outputs": [],
   "source": [
    "# Fits data into bayesian model\n",
    "bn_heart_model.fit(dheart_sample)"
   ]
  },
  {
   "cell_type": "code",
   "execution_count": 21,
   "id": "homeless-transportation",
   "metadata": {},
   "outputs": [],
   "source": [
    "# Creates junction tree\n",
    "jt_heart = BeliefPropagation(bn_heart_model)"
   ]
  },
  {
   "cell_type": "code",
   "execution_count": 22,
   "id": "alone-beast",
   "metadata": {},
   "outputs": [
    {
     "name": "stderr",
     "output_type": "stream",
     "text": [
      "/home/nikhil/miniconda3/envs/pgm/lib/python3.7/site-packages/pgmpy/factors/discrete/DiscreteFactor.py:775: RuntimeWarning: invalid value encountered in true_divide\n",
      "  phi.values = phi.values / phi1.values\n"
     ]
    }
   ],
   "source": [
    "jt_heart.calibrate()"
   ]
  },
  {
   "cell_type": "code",
   "execution_count": 23,
   "id": "thirty-collar",
   "metadata": {},
   "outputs": [
    {
     "data": {
      "image/png": "[encoded data removed]",
      "text/plain": [
       "<Figure size 288x288 with 1 Axes>"
      ]
     },
     "metadata": {},
     "output_type": "display_data"
    }
   ],
   "source": [
    "display(jt_heart.junction_tree)"
   ]
  },
  {
   "cell_type": "code",
   "execution_count": 24,
   "id": "naked-guide",
   "metadata": {},
   "outputs": [
    {
     "data": {
      "text/plain": [
       "NodeView((('chol', 'restecg', 'trestbps', 'target', 'cp'), ('chol', 'restecg', 'trestbps', 'fbs')))"
      ]
     },
     "execution_count": 24,
     "metadata": {},
     "output_type": "execute_result"
    }
   ],
   "source": [
    "# Cliques of JT represented in graph\n",
    "jt_heart.get_cliques()"
   ]
  },
  {
   "cell_type": "markdown",
   "id": "literary-consequence",
   "metadata": {},
   "source": [
    "### Not as useful or necessary for our project - But plots max marginals (probability of argmax variable) over a marginal dist"
   ]
  },
  {
   "cell_type": "code",
   "execution_count": 25,
   "id": "integral-cruise",
   "metadata": {},
   "outputs": [],
   "source": [
    "inf_heart = VariableElimination(bn_heart_model)"
   ]
  },
  {
   "cell_type": "code",
   "execution_count": 26,
   "id": "quantitative-scale",
   "metadata": {},
   "outputs": [
    {
     "name": "stderr",
     "output_type": "stream",
     "text": [
      "Finding Elimination Order: :   0%|          | 0/5 [00:00<?, ?it/s]\n",
      "  0%|          | 0/5 [00:00<?, ?it/s]\u001b[A\n",
      "Finding Elimination Order: : 100%|██████████| 5/5 [00:00<00:00, 378.52it/s]\n",
      "\n",
      "Eliminating: trestbps:   0%|          | 0/5 [00:00<?, ?it/s]\u001b[A\n",
      "Eliminating: fbs:   0%|          | 0/5 [00:00<?, ?it/s]     \u001b[A\n",
      "Eliminating: chol:   0%|          | 0/5 [00:00<?, ?it/s]\u001b[A\n",
      "Eliminating: target: 100%|██████████| 5/5 [00:00<00:00, 75.62it/s]\n"
     ]
    },
    {
     "data": {
      "text/plain": [
       "0.3333333333333333"
      ]
     },
     "execution_count": 26,
     "metadata": {},
     "output_type": "execute_result"
    }
   ],
   "source": [
    "inf_heart.max_marginal(['cp'])"
   ]
  },
  {
   "cell_type": "code",
   "execution_count": 27,
   "id": "coated-hunger",
   "metadata": {},
   "outputs": [
    {
     "name": "stderr",
     "output_type": "stream",
     "text": [
      "Finding Elimination Order: :   0%|          | 0/4 [00:00<?, ?it/s]\n",
      "  0%|          | 0/4 [00:00<?, ?it/s]\u001b[A\n",
      "Eliminating: trestbps:   0%|          | 0/4 [00:00<?, ?it/s]\u001b[A\n",
      "Eliminating: target:   0%|          | 0/4 [00:00<?, ?it/s]  \u001b[A\n",
      "Eliminating: cp:   0%|          | 0/4 [00:00<?, ?it/s]    \u001b[A\n",
      "Eliminating: fbs: 100%|██████████| 4/4 [00:00<00:00, 99.88it/s]\n"
     ]
    },
    {
     "data": {
      "text/plain": [
       "0.14285714285714285"
      ]
     },
     "execution_count": 27,
     "metadata": {},
     "output_type": "execute_result"
    }
   ],
   "source": [
    "inf_heart.max_marginal(variables=['chol', 'restecg'])"
   ]
  },
  {
   "cell_type": "markdown",
   "id": "developed-fundamentals",
   "metadata": {},
   "source": [
    "## Marginals we need"
   ]
  },
  {
   "cell_type": "code",
   "execution_count": 28,
   "id": "accurate-arcade",
   "metadata": {},
   "outputs": [
    {
     "name": "stderr",
     "output_type": "stream",
     "text": [
      "Finding Elimination Order: : 100%|██████████| 4/4 [00:00<00:00,  4.81it/s]\n",
      "/home/nikhil/miniconda3/envs/pgm/lib/python3.7/site-packages/pgmpy/factors/discrete/DiscreteFactor.py:519: UserWarning: Found unknown state name. Trying to switch to using all state names as state numbers\n",
      "  \"Found unknown state name. Trying to switch to using all state names as state numbers\"\n"
     ]
    },
    {
     "ename": "IndexError",
     "evalue": "index 135 is out of bounds for axis 2 with size 7",
     "output_type": "error",
     "traceback": [
      "\u001b[0;31m---------------------------------------------------------------------------\u001b[0m",
      "\u001b[0;31mIndexError\u001b[0m                                Traceback (most recent call last)",
      "\u001b[0;32m<ipython-input-28-01fb065a4b40>\u001b[0m in \u001b[0;36m<module>\u001b[0;34m\u001b[0m\n\u001b[1;32m      1\u001b[0m \u001b[0;31m# Marginal with fixed value of evidence variable\u001b[0m\u001b[0;34m\u001b[0m\u001b[0;34m\u001b[0m\u001b[0m\n\u001b[0;32m----> 2\u001b[0;31m \u001b[0mprint\u001b[0m\u001b[0;34m(\u001b[0m\u001b[0mjt_heart\u001b[0m\u001b[0;34m.\u001b[0m\u001b[0mquery\u001b[0m\u001b[0;34m(\u001b[0m\u001b[0;34m[\u001b[0m\u001b[0;34m'target'\u001b[0m\u001b[0;34m]\u001b[0m\u001b[0;34m,\u001b[0m \u001b[0mevidence\u001b[0m\u001b[0;34m=\u001b[0m\u001b[0;34m{\u001b[0m\u001b[0;34m'trestbps'\u001b[0m\u001b[0;34m:\u001b[0m \u001b[0;36m135\u001b[0m\u001b[0;34m}\u001b[0m\u001b[0;34m)\u001b[0m\u001b[0;34m)\u001b[0m\u001b[0;34m\u001b[0m\u001b[0m\n\u001b[0m",
      "\u001b[0;32m~/miniconda3/envs/pgm/lib/python3.7/site-packages/pgmpy/inference/ExactInference.py\u001b[0m in \u001b[0;36mquery\u001b[0;34m(self, variables, evidence, joint, show_progress)\u001b[0m\n\u001b[1;32m    887\u001b[0m             \u001b[0mevidence\u001b[0m\u001b[0;34m=\u001b[0m\u001b[0mevidence\u001b[0m\u001b[0;34m,\u001b[0m\u001b[0;34m\u001b[0m\u001b[0m\n\u001b[1;32m    888\u001b[0m             \u001b[0mjoint\u001b[0m\u001b[0;34m=\u001b[0m\u001b[0mjoint\u001b[0m\u001b[0;34m,\u001b[0m\u001b[0;34m\u001b[0m\u001b[0m\n\u001b[0;32m--> 889\u001b[0;31m             \u001b[0mshow_progress\u001b[0m\u001b[0;34m=\u001b[0m\u001b[0mshow_progress\u001b[0m\u001b[0;34m,\u001b[0m\u001b[0;34m\u001b[0m\u001b[0m\n\u001b[0m\u001b[1;32m    890\u001b[0m         )\n\u001b[1;32m    891\u001b[0m         \u001b[0;32mif\u001b[0m \u001b[0mjoint\u001b[0m\u001b[0;34m:\u001b[0m\u001b[0;34m\u001b[0m\u001b[0m\n",
      "\u001b[0;32m~/miniconda3/envs/pgm/lib/python3.7/site-packages/pgmpy/inference/ExactInference.py\u001b[0m in \u001b[0;36m_query\u001b[0;34m(self, variables, operation, evidence, joint, show_progress)\u001b[0m\n\u001b[1;32m    823\u001b[0m                 \u001b[0mevidence\u001b[0m\u001b[0;34m=\u001b[0m\u001b[0mevidence\u001b[0m\u001b[0;34m,\u001b[0m\u001b[0;34m\u001b[0m\u001b[0m\n\u001b[1;32m    824\u001b[0m                 \u001b[0mjoint\u001b[0m\u001b[0;34m=\u001b[0m\u001b[0mjoint\u001b[0m\u001b[0;34m,\u001b[0m\u001b[0;34m\u001b[0m\u001b[0m\n\u001b[0;32m--> 825\u001b[0;31m                 \u001b[0mshow_progress\u001b[0m\u001b[0;34m=\u001b[0m\u001b[0mshow_progress\u001b[0m\u001b[0;34m,\u001b[0m\u001b[0;34m\u001b[0m\u001b[0m\n\u001b[0m\u001b[1;32m    826\u001b[0m             )\n\u001b[1;32m    827\u001b[0m         \u001b[0;32melif\u001b[0m \u001b[0moperation\u001b[0m \u001b[0;34m==\u001b[0m \u001b[0;34m\"maximize\"\u001b[0m\u001b[0;34m:\u001b[0m\u001b[0;34m\u001b[0m\u001b[0m\n",
      "\u001b[0;32m~/miniconda3/envs/pgm/lib/python3.7/site-packages/pgmpy/inference/ExactInference.py\u001b[0m in \u001b[0;36mquery\u001b[0;34m(self, variables, evidence, elimination_order, joint, show_progress)\u001b[0m\n\u001b[1;32m    261\u001b[0m             \u001b[0melimination_order\u001b[0m\u001b[0;34m=\u001b[0m\u001b[0melimination_order\u001b[0m\u001b[0;34m,\u001b[0m\u001b[0;34m\u001b[0m\u001b[0m\n\u001b[1;32m    262\u001b[0m             \u001b[0mjoint\u001b[0m\u001b[0;34m=\u001b[0m\u001b[0mjoint\u001b[0m\u001b[0;34m,\u001b[0m\u001b[0;34m\u001b[0m\u001b[0m\n\u001b[0;32m--> 263\u001b[0;31m             \u001b[0mshow_progress\u001b[0m\u001b[0;34m=\u001b[0m\u001b[0mshow_progress\u001b[0m\u001b[0;34m,\u001b[0m\u001b[0;34m\u001b[0m\u001b[0m\n\u001b[0m\u001b[1;32m    264\u001b[0m         )\n\u001b[1;32m    265\u001b[0m \u001b[0;34m\u001b[0m\u001b[0m\n",
      "\u001b[0;32m~/miniconda3/envs/pgm/lib/python3.7/site-packages/pgmpy/inference/ExactInference.py\u001b[0m in \u001b[0;36m_variable_elimination\u001b[0;34m(self, variables, operation, evidence, elimination_order, joint, show_progress)\u001b[0m\n\u001b[1;32m    158\u001b[0m         \u001b[0meliminated_variables\u001b[0m \u001b[0;34m=\u001b[0m \u001b[0mset\u001b[0m\u001b[0;34m(\u001b[0m\u001b[0;34m)\u001b[0m\u001b[0;34m\u001b[0m\u001b[0m\n\u001b[1;32m    159\u001b[0m         \u001b[0;31m# Get working factors and elimination order\u001b[0m\u001b[0;34m\u001b[0m\u001b[0;34m\u001b[0m\u001b[0m\n\u001b[0;32m--> 160\u001b[0;31m         \u001b[0mworking_factors\u001b[0m \u001b[0;34m=\u001b[0m \u001b[0mself\u001b[0m\u001b[0;34m.\u001b[0m\u001b[0m_get_working_factors\u001b[0m\u001b[0;34m(\u001b[0m\u001b[0mevidence\u001b[0m\u001b[0;34m)\u001b[0m\u001b[0;34m\u001b[0m\u001b[0m\n\u001b[0m\u001b[1;32m    161\u001b[0m         elimination_order = self._get_elimination_order(\n\u001b[1;32m    162\u001b[0m             \u001b[0mvariables\u001b[0m\u001b[0;34m,\u001b[0m \u001b[0mevidence\u001b[0m\u001b[0;34m,\u001b[0m \u001b[0melimination_order\u001b[0m\u001b[0;34m,\u001b[0m \u001b[0mshow_progress\u001b[0m\u001b[0;34m=\u001b[0m\u001b[0mshow_progress\u001b[0m\u001b[0;34m\u001b[0m\u001b[0m\n",
      "\u001b[0;32m~/miniconda3/envs/pgm/lib/python3.7/site-packages/pgmpy/inference/ExactInference.py\u001b[0m in \u001b[0;36m_get_working_factors\u001b[0;34m(self, evidence)\u001b[0m\n\u001b[1;32m     45\u001b[0m                 \u001b[0;32mfor\u001b[0m \u001b[0mfactor\u001b[0m\u001b[0;34m,\u001b[0m \u001b[0morigin\u001b[0m \u001b[0;32min\u001b[0m \u001b[0mworking_factors\u001b[0m\u001b[0;34m[\u001b[0m\u001b[0mevidence_var\u001b[0m\u001b[0;34m]\u001b[0m\u001b[0;34m:\u001b[0m\u001b[0;34m\u001b[0m\u001b[0m\n\u001b[1;32m     46\u001b[0m                     factor_reduced = factor.reduce(\n\u001b[0;32m---> 47\u001b[0;31m                         \u001b[0;34m[\u001b[0m\u001b[0;34m(\u001b[0m\u001b[0mevidence_var\u001b[0m\u001b[0;34m,\u001b[0m \u001b[0mevidence\u001b[0m\u001b[0;34m[\u001b[0m\u001b[0mevidence_var\u001b[0m\u001b[0;34m]\u001b[0m\u001b[0;34m)\u001b[0m\u001b[0;34m]\u001b[0m\u001b[0;34m,\u001b[0m \u001b[0minplace\u001b[0m\u001b[0;34m=\u001b[0m\u001b[0;32mFalse\u001b[0m\u001b[0;34m\u001b[0m\u001b[0m\n\u001b[0m\u001b[1;32m     48\u001b[0m                     )\n\u001b[1;32m     49\u001b[0m                     \u001b[0;32mfor\u001b[0m \u001b[0mvar\u001b[0m \u001b[0;32min\u001b[0m \u001b[0mfactor_reduced\u001b[0m\u001b[0;34m.\u001b[0m\u001b[0mscope\u001b[0m\u001b[0;34m(\u001b[0m\u001b[0;34m)\u001b[0m\u001b[0;34m:\u001b[0m\u001b[0;34m\u001b[0m\u001b[0m\n",
      "\u001b[0;32m~/miniconda3/envs/pgm/lib/python3.7/site-packages/pgmpy/factors/discrete/DiscreteFactor.py\u001b[0m in \u001b[0;36mreduce\u001b[0;34m(self, values, inplace)\u001b[0m\n\u001b[1;32m    535\u001b[0m         \u001b[0mphi\u001b[0m\u001b[0;34m.\u001b[0m\u001b[0mdel_state_names\u001b[0m\u001b[0;34m(\u001b[0m\u001b[0;34m[\u001b[0m\u001b[0mvar\u001b[0m \u001b[0;32mfor\u001b[0m \u001b[0mvar\u001b[0m\u001b[0;34m,\u001b[0m \u001b[0m_\u001b[0m \u001b[0;32min\u001b[0m \u001b[0mvalues\u001b[0m\u001b[0;34m]\u001b[0m\u001b[0;34m)\u001b[0m\u001b[0;34m\u001b[0m\u001b[0m\n\u001b[1;32m    536\u001b[0m \u001b[0;34m\u001b[0m\u001b[0m\n\u001b[0;32m--> 537\u001b[0;31m         \u001b[0mphi\u001b[0m\u001b[0;34m.\u001b[0m\u001b[0mvalues\u001b[0m \u001b[0;34m=\u001b[0m \u001b[0mphi\u001b[0m\u001b[0;34m.\u001b[0m\u001b[0mvalues\u001b[0m\u001b[0;34m[\u001b[0m\u001b[0mtuple\u001b[0m\u001b[0;34m(\u001b[0m\u001b[0mslice_\u001b[0m\u001b[0;34m)\u001b[0m\u001b[0;34m]\u001b[0m\u001b[0;34m\u001b[0m\u001b[0m\n\u001b[0m\u001b[1;32m    538\u001b[0m \u001b[0;34m\u001b[0m\u001b[0m\n\u001b[1;32m    539\u001b[0m         \u001b[0;32mif\u001b[0m \u001b[0;32mnot\u001b[0m \u001b[0minplace\u001b[0m\u001b[0;34m:\u001b[0m\u001b[0;34m\u001b[0m\u001b[0m\n",
      "\u001b[0;31mIndexError\u001b[0m: index 135 is out of bounds for axis 2 with size 7"
     ]
    }
   ],
   "source": [
    "# Marginal with fixed value of evidence variable\n",
    "print(jt_heart.query(['target'], evidence={'trestbps': 135}))"
   ]
  },
  {
   "cell_type": "code",
   "execution_count": 29,
   "id": "difficult-party",
   "metadata": {},
   "outputs": [
    {
     "name": "stderr",
     "output_type": "stream",
     "text": [
      "Eliminating: cp: 100%|██████████| 4/4 [00:00<00:00, 67.22it/s]"
     ]
    },
    {
     "name": "stdout",
     "output_type": "stream",
     "text": [
      "+-----------+---------------+----------------------+\n",
      "| chol      | trestbps      |   phi(chol,trestbps) |\n",
      "+===========+===============+======================+\n",
      "| chol(141) | trestbps(108) |               0.1111 |\n",
      "+-----------+---------------+----------------------+\n",
      "| chol(141) | trestbps(110) |               0.0000 |\n",
      "+-----------+---------------+----------------------+\n",
      "| chol(141) | trestbps(130) |               0.0000 |\n",
      "+-----------+---------------+----------------------+\n",
      "| chol(141) | trestbps(134) |               0.0000 |\n",
      "+-----------+---------------+----------------------+\n",
      "| chol(141) | trestbps(148) |               0.0000 |\n",
      "+-----------+---------------+----------------------+\n",
      "| chol(141) | trestbps(150) |               0.0000 |\n",
      "+-----------+---------------+----------------------+\n",
      "| chol(141) | trestbps(160) |               0.0000 |\n",
      "+-----------+---------------+----------------------+\n",
      "| chol(197) | trestbps(108) |               0.0000 |\n",
      "+-----------+---------------+----------------------+\n",
      "| chol(197) | trestbps(110) |               0.0000 |\n",
      "+-----------+---------------+----------------------+\n",
      "| chol(197) | trestbps(130) |               0.1111 |\n",
      "+-----------+---------------+----------------------+\n",
      "| chol(197) | trestbps(134) |               0.0000 |\n",
      "+-----------+---------------+----------------------+\n",
      "| chol(197) | trestbps(148) |               0.0000 |\n",
      "+-----------+---------------+----------------------+\n",
      "| chol(197) | trestbps(150) |               0.0000 |\n",
      "+-----------+---------------+----------------------+\n",
      "| chol(197) | trestbps(160) |               0.0000 |\n",
      "+-----------+---------------+----------------------+\n",
      "| chol(201) | trestbps(108) |               0.0000 |\n",
      "+-----------+---------------+----------------------+\n",
      "| chol(201) | trestbps(110) |               0.0000 |\n",
      "+-----------+---------------+----------------------+\n",
      "| chol(201) | trestbps(130) |               0.0000 |\n",
      "+-----------+---------------+----------------------+\n",
      "| chol(201) | trestbps(134) |               0.1111 |\n",
      "+-----------+---------------+----------------------+\n",
      "| chol(201) | trestbps(148) |               0.0000 |\n",
      "+-----------+---------------+----------------------+\n",
      "| chol(201) | trestbps(150) |               0.0000 |\n",
      "+-----------+---------------+----------------------+\n",
      "| chol(201) | trestbps(160) |               0.0000 |\n",
      "+-----------+---------------+----------------------+\n",
      "| chol(204) | trestbps(108) |               0.0000 |\n",
      "+-----------+---------------+----------------------+\n",
      "| chol(204) | trestbps(110) |               0.0000 |\n",
      "+-----------+---------------+----------------------+\n",
      "| chol(204) | trestbps(130) |               0.1111 |\n",
      "+-----------+---------------+----------------------+\n",
      "| chol(204) | trestbps(134) |               0.0000 |\n",
      "+-----------+---------------+----------------------+\n",
      "| chol(204) | trestbps(148) |               0.0000 |\n",
      "+-----------+---------------+----------------------+\n",
      "| chol(204) | trestbps(150) |               0.0000 |\n",
      "+-----------+---------------+----------------------+\n",
      "| chol(204) | trestbps(160) |               0.0000 |\n",
      "+-----------+---------------+----------------------+\n",
      "| chol(206) | trestbps(108) |               0.0000 |\n",
      "+-----------+---------------+----------------------+\n",
      "| chol(206) | trestbps(110) |               0.1111 |\n",
      "+-----------+---------------+----------------------+\n",
      "| chol(206) | trestbps(130) |               0.0000 |\n",
      "+-----------+---------------+----------------------+\n",
      "| chol(206) | trestbps(134) |               0.0000 |\n",
      "+-----------+---------------+----------------------+\n",
      "| chol(206) | trestbps(148) |               0.0000 |\n",
      "+-----------+---------------+----------------------+\n",
      "| chol(206) | trestbps(150) |               0.0000 |\n",
      "+-----------+---------------+----------------------+\n",
      "| chol(206) | trestbps(160) |               0.0000 |\n",
      "+-----------+---------------+----------------------+\n",
      "| chol(243) | trestbps(108) |               0.0000 |\n",
      "+-----------+---------------+----------------------+\n",
      "| chol(243) | trestbps(110) |               0.0000 |\n",
      "+-----------+---------------+----------------------+\n",
      "| chol(243) | trestbps(130) |               0.0000 |\n",
      "+-----------+---------------+----------------------+\n",
      "| chol(243) | trestbps(134) |               0.0000 |\n",
      "+-----------+---------------+----------------------+\n",
      "| chol(243) | trestbps(148) |               0.0000 |\n",
      "+-----------+---------------+----------------------+\n",
      "| chol(243) | trestbps(150) |               0.1111 |\n",
      "+-----------+---------------+----------------------+\n",
      "| chol(243) | trestbps(160) |               0.0000 |\n",
      "+-----------+---------------+----------------------+\n",
      "| chol(244) | trestbps(108) |               0.0000 |\n",
      "+-----------+---------------+----------------------+\n",
      "| chol(244) | trestbps(110) |               0.0000 |\n",
      "+-----------+---------------+----------------------+\n",
      "| chol(244) | trestbps(130) |               0.0000 |\n",
      "+-----------+---------------+----------------------+\n",
      "| chol(244) | trestbps(134) |               0.0000 |\n",
      "+-----------+---------------+----------------------+\n",
      "| chol(244) | trestbps(148) |               0.1111 |\n",
      "+-----------+---------------+----------------------+\n",
      "| chol(244) | trestbps(150) |               0.0000 |\n",
      "+-----------+---------------+----------------------+\n",
      "| chol(244) | trestbps(160) |               0.0000 |\n",
      "+-----------+---------------+----------------------+\n",
      "| chol(283) | trestbps(108) |               0.0000 |\n",
      "+-----------+---------------+----------------------+\n",
      "| chol(283) | trestbps(110) |               0.0000 |\n",
      "+-----------+---------------+----------------------+\n",
      "| chol(283) | trestbps(130) |               0.0000 |\n",
      "+-----------+---------------+----------------------+\n",
      "| chol(283) | trestbps(134) |               0.0000 |\n",
      "+-----------+---------------+----------------------+\n",
      "| chol(283) | trestbps(148) |               0.0000 |\n",
      "+-----------+---------------+----------------------+\n",
      "| chol(283) | trestbps(150) |               0.1111 |\n",
      "+-----------+---------------+----------------------+\n",
      "| chol(283) | trestbps(160) |               0.0000 |\n",
      "+-----------+---------------+----------------------+\n",
      "| chol(286) | trestbps(108) |               0.0000 |\n",
      "+-----------+---------------+----------------------+\n",
      "| chol(286) | trestbps(110) |               0.0000 |\n",
      "+-----------+---------------+----------------------+\n",
      "| chol(286) | trestbps(130) |               0.0000 |\n",
      "+-----------+---------------+----------------------+\n",
      "| chol(286) | trestbps(134) |               0.0000 |\n",
      "+-----------+---------------+----------------------+\n",
      "| chol(286) | trestbps(148) |               0.0000 |\n",
      "+-----------+---------------+----------------------+\n",
      "| chol(286) | trestbps(150) |               0.0000 |\n",
      "+-----------+---------------+----------------------+\n",
      "| chol(286) | trestbps(160) |               0.1111 |\n",
      "+-----------+---------------+----------------------+\n"
     ]
    },
    {
     "name": "stderr",
     "output_type": "stream",
     "text": [
      "\n"
     ]
    }
   ],
   "source": [
    "# Marginal dist - plotting joint distribution over 2 variables\n",
    "tc = jt_heart.query(['trestbps', 'chol'])\n",
    "print(tc)"
   ]
  },
  {
   "cell_type": "code",
   "execution_count": 30,
   "id": "searching-mixer",
   "metadata": {},
   "outputs": [
    {
     "name": "stderr",
     "output_type": "stream",
     "text": [
      "Eliminating: cp: 100%|██████████| 3/3 [00:00<00:00, 49.65it/s]"
     ]
    },
    {
     "name": "stdout",
     "output_type": "stream",
     "text": [
      "+-----------+---------------+-----------+-----------------------------+\n",
      "| chol      | trestbps      | target    |   phi(chol,trestbps,target) |\n",
      "+===========+===============+===========+=============================+\n",
      "| chol(141) | trestbps(108) | target(0) |                      0.0370 |\n",
      "+-----------+---------------+-----------+-----------------------------+\n",
      "| chol(141) | trestbps(108) | target(1) |                      0.0741 |\n",
      "+-----------+---------------+-----------+-----------------------------+\n",
      "| chol(141) | trestbps(110) | target(0) |                      0.0000 |\n",
      "+-----------+---------------+-----------+-----------------------------+\n",
      "| chol(141) | trestbps(110) | target(1) |                      0.0000 |\n",
      "+-----------+---------------+-----------+-----------------------------+\n",
      "| chol(141) | trestbps(130) | target(0) |                      0.0000 |\n",
      "+-----------+---------------+-----------+-----------------------------+\n",
      "| chol(141) | trestbps(130) | target(1) |                      0.0000 |\n",
      "+-----------+---------------+-----------+-----------------------------+\n",
      "| chol(141) | trestbps(134) | target(0) |                      0.0000 |\n",
      "+-----------+---------------+-----------+-----------------------------+\n",
      "| chol(141) | trestbps(134) | target(1) |                      0.0000 |\n",
      "+-----------+---------------+-----------+-----------------------------+\n",
      "| chol(141) | trestbps(148) | target(0) |                      0.0000 |\n",
      "+-----------+---------------+-----------+-----------------------------+\n",
      "| chol(141) | trestbps(148) | target(1) |                      0.0000 |\n",
      "+-----------+---------------+-----------+-----------------------------+\n",
      "| chol(141) | trestbps(150) | target(0) |                      0.0000 |\n",
      "+-----------+---------------+-----------+-----------------------------+\n",
      "| chol(141) | trestbps(150) | target(1) |                      0.0000 |\n",
      "+-----------+---------------+-----------+-----------------------------+\n",
      "| chol(141) | trestbps(160) | target(0) |                      0.0000 |\n",
      "+-----------+---------------+-----------+-----------------------------+\n",
      "| chol(141) | trestbps(160) | target(1) |                      0.0000 |\n",
      "+-----------+---------------+-----------+-----------------------------+\n",
      "| chol(197) | trestbps(108) | target(0) |                      0.0000 |\n",
      "+-----------+---------------+-----------+-----------------------------+\n",
      "| chol(197) | trestbps(108) | target(1) |                      0.0000 |\n",
      "+-----------+---------------+-----------+-----------------------------+\n",
      "| chol(197) | trestbps(110) | target(0) |                      0.0000 |\n",
      "+-----------+---------------+-----------+-----------------------------+\n",
      "| chol(197) | trestbps(110) | target(1) |                      0.0000 |\n",
      "+-----------+---------------+-----------+-----------------------------+\n",
      "| chol(197) | trestbps(130) | target(0) |                      0.0370 |\n",
      "+-----------+---------------+-----------+-----------------------------+\n",
      "| chol(197) | trestbps(130) | target(1) |                      0.0741 |\n",
      "+-----------+---------------+-----------+-----------------------------+\n",
      "| chol(197) | trestbps(134) | target(0) |                      0.0000 |\n",
      "+-----------+---------------+-----------+-----------------------------+\n",
      "| chol(197) | trestbps(134) | target(1) |                      0.0000 |\n",
      "+-----------+---------------+-----------+-----------------------------+\n",
      "| chol(197) | trestbps(148) | target(0) |                      0.0000 |\n",
      "+-----------+---------------+-----------+-----------------------------+\n",
      "| chol(197) | trestbps(148) | target(1) |                      0.0000 |\n",
      "+-----------+---------------+-----------+-----------------------------+\n",
      "| chol(197) | trestbps(150) | target(0) |                      0.0000 |\n",
      "+-----------+---------------+-----------+-----------------------------+\n",
      "| chol(197) | trestbps(150) | target(1) |                      0.0000 |\n",
      "+-----------+---------------+-----------+-----------------------------+\n",
      "| chol(197) | trestbps(160) | target(0) |                      0.0000 |\n",
      "+-----------+---------------+-----------+-----------------------------+\n",
      "| chol(197) | trestbps(160) | target(1) |                      0.0000 |\n",
      "+-----------+---------------+-----------+-----------------------------+\n",
      "| chol(201) | trestbps(108) | target(0) |                      0.0000 |\n",
      "+-----------+---------------+-----------+-----------------------------+\n",
      "| chol(201) | trestbps(108) | target(1) |                      0.0000 |\n",
      "+-----------+---------------+-----------+-----------------------------+\n",
      "| chol(201) | trestbps(110) | target(0) |                      0.0000 |\n",
      "+-----------+---------------+-----------+-----------------------------+\n",
      "| chol(201) | trestbps(110) | target(1) |                      0.0000 |\n",
      "+-----------+---------------+-----------+-----------------------------+\n",
      "| chol(201) | trestbps(130) | target(0) |                      0.0000 |\n",
      "+-----------+---------------+-----------+-----------------------------+\n",
      "| chol(201) | trestbps(130) | target(1) |                      0.0000 |\n",
      "+-----------+---------------+-----------+-----------------------------+\n",
      "| chol(201) | trestbps(134) | target(0) |                      0.0432 |\n",
      "+-----------+---------------+-----------+-----------------------------+\n",
      "| chol(201) | trestbps(134) | target(1) |                      0.0679 |\n",
      "+-----------+---------------+-----------+-----------------------------+\n",
      "| chol(201) | trestbps(148) | target(0) |                      0.0000 |\n",
      "+-----------+---------------+-----------+-----------------------------+\n",
      "| chol(201) | trestbps(148) | target(1) |                      0.0000 |\n",
      "+-----------+---------------+-----------+-----------------------------+\n",
      "| chol(201) | trestbps(150) | target(0) |                      0.0000 |\n",
      "+-----------+---------------+-----------+-----------------------------+\n",
      "| chol(201) | trestbps(150) | target(1) |                      0.0000 |\n",
      "+-----------+---------------+-----------+-----------------------------+\n",
      "| chol(201) | trestbps(160) | target(0) |                      0.0000 |\n",
      "+-----------+---------------+-----------+-----------------------------+\n",
      "| chol(201) | trestbps(160) | target(1) |                      0.0000 |\n",
      "+-----------+---------------+-----------+-----------------------------+\n",
      "| chol(204) | trestbps(108) | target(0) |                      0.0000 |\n",
      "+-----------+---------------+-----------+-----------------------------+\n",
      "| chol(204) | trestbps(108) | target(1) |                      0.0000 |\n",
      "+-----------+---------------+-----------+-----------------------------+\n",
      "| chol(204) | trestbps(110) | target(0) |                      0.0000 |\n",
      "+-----------+---------------+-----------+-----------------------------+\n",
      "| chol(204) | trestbps(110) | target(1) |                      0.0000 |\n",
      "+-----------+---------------+-----------+-----------------------------+\n",
      "| chol(204) | trestbps(130) | target(0) |                      0.0432 |\n",
      "+-----------+---------------+-----------+-----------------------------+\n",
      "| chol(204) | trestbps(130) | target(1) |                      0.0679 |\n",
      "+-----------+---------------+-----------+-----------------------------+\n",
      "| chol(204) | trestbps(134) | target(0) |                      0.0000 |\n",
      "+-----------+---------------+-----------+-----------------------------+\n",
      "| chol(204) | trestbps(134) | target(1) |                      0.0000 |\n",
      "+-----------+---------------+-----------+-----------------------------+\n",
      "| chol(204) | trestbps(148) | target(0) |                      0.0000 |\n",
      "+-----------+---------------+-----------+-----------------------------+\n",
      "| chol(204) | trestbps(148) | target(1) |                      0.0000 |\n",
      "+-----------+---------------+-----------+-----------------------------+\n",
      "| chol(204) | trestbps(150) | target(0) |                      0.0000 |\n",
      "+-----------+---------------+-----------+-----------------------------+\n",
      "| chol(204) | trestbps(150) | target(1) |                      0.0000 |\n",
      "+-----------+---------------+-----------+-----------------------------+\n",
      "| chol(204) | trestbps(160) | target(0) |                      0.0000 |\n",
      "+-----------+---------------+-----------+-----------------------------+\n",
      "| chol(204) | trestbps(160) | target(1) |                      0.0000 |\n",
      "+-----------+---------------+-----------+-----------------------------+\n",
      "| chol(206) | trestbps(108) | target(0) |                      0.0000 |\n",
      "+-----------+---------------+-----------+-----------------------------+\n",
      "| chol(206) | trestbps(108) | target(1) |                      0.0000 |\n",
      "+-----------+---------------+-----------+-----------------------------+\n",
      "| chol(206) | trestbps(110) | target(0) |                      0.0679 |\n",
      "+-----------+---------------+-----------+-----------------------------+\n",
      "| chol(206) | trestbps(110) | target(1) |                      0.0432 |\n",
      "+-----------+---------------+-----------+-----------------------------+\n",
      "| chol(206) | trestbps(130) | target(0) |                      0.0000 |\n",
      "+-----------+---------------+-----------+-----------------------------+\n",
      "| chol(206) | trestbps(130) | target(1) |                      0.0000 |\n",
      "+-----------+---------------+-----------+-----------------------------+\n",
      "| chol(206) | trestbps(134) | target(0) |                      0.0000 |\n",
      "+-----------+---------------+-----------+-----------------------------+\n",
      "| chol(206) | trestbps(134) | target(1) |                      0.0000 |\n",
      "+-----------+---------------+-----------+-----------------------------+\n",
      "| chol(206) | trestbps(148) | target(0) |                      0.0000 |\n",
      "+-----------+---------------+-----------+-----------------------------+\n",
      "| chol(206) | trestbps(148) | target(1) |                      0.0000 |\n",
      "+-----------+---------------+-----------+-----------------------------+\n",
      "| chol(206) | trestbps(150) | target(0) |                      0.0000 |\n",
      "+-----------+---------------+-----------+-----------------------------+\n",
      "| chol(206) | trestbps(150) | target(1) |                      0.0000 |\n",
      "+-----------+---------------+-----------+-----------------------------+\n",
      "| chol(206) | trestbps(160) | target(0) |                      0.0000 |\n",
      "+-----------+---------------+-----------+-----------------------------+\n",
      "| chol(206) | trestbps(160) | target(1) |                      0.0000 |\n",
      "+-----------+---------------+-----------+-----------------------------+\n",
      "| chol(243) | trestbps(108) | target(0) |                      0.0000 |\n",
      "+-----------+---------------+-----------+-----------------------------+\n",
      "| chol(243) | trestbps(108) | target(1) |                      0.0000 |\n",
      "+-----------+---------------+-----------+-----------------------------+\n",
      "| chol(243) | trestbps(110) | target(0) |                      0.0000 |\n",
      "+-----------+---------------+-----------+-----------------------------+\n",
      "| chol(243) | trestbps(110) | target(1) |                      0.0000 |\n",
      "+-----------+---------------+-----------+-----------------------------+\n",
      "| chol(243) | trestbps(130) | target(0) |                      0.0000 |\n",
      "+-----------+---------------+-----------+-----------------------------+\n",
      "| chol(243) | trestbps(130) | target(1) |                      0.0000 |\n",
      "+-----------+---------------+-----------+-----------------------------+\n",
      "| chol(243) | trestbps(134) | target(0) |                      0.0000 |\n",
      "+-----------+---------------+-----------+-----------------------------+\n",
      "| chol(243) | trestbps(134) | target(1) |                      0.0000 |\n",
      "+-----------+---------------+-----------+-----------------------------+\n",
      "| chol(243) | trestbps(148) | target(0) |                      0.0000 |\n",
      "+-----------+---------------+-----------+-----------------------------+\n",
      "| chol(243) | trestbps(148) | target(1) |                      0.0000 |\n",
      "+-----------+---------------+-----------+-----------------------------+\n",
      "| chol(243) | trestbps(150) | target(0) |                      0.0370 |\n",
      "+-----------+---------------+-----------+-----------------------------+\n",
      "| chol(243) | trestbps(150) | target(1) |                      0.0741 |\n",
      "+-----------+---------------+-----------+-----------------------------+\n",
      "| chol(243) | trestbps(160) | target(0) |                      0.0000 |\n",
      "+-----------+---------------+-----------+-----------------------------+\n",
      "| chol(243) | trestbps(160) | target(1) |                      0.0000 |\n",
      "+-----------+---------------+-----------+-----------------------------+\n",
      "| chol(244) | trestbps(108) | target(0) |                      0.0000 |\n",
      "+-----------+---------------+-----------+-----------------------------+\n",
      "| chol(244) | trestbps(108) | target(1) |                      0.0000 |\n",
      "+-----------+---------------+-----------+-----------------------------+\n",
      "| chol(244) | trestbps(110) | target(0) |                      0.0000 |\n",
      "+-----------+---------------+-----------+-----------------------------+\n",
      "| chol(244) | trestbps(110) | target(1) |                      0.0000 |\n",
      "+-----------+---------------+-----------+-----------------------------+\n",
      "| chol(244) | trestbps(130) | target(0) |                      0.0000 |\n",
      "+-----------+---------------+-----------+-----------------------------+\n",
      "| chol(244) | trestbps(130) | target(1) |                      0.0000 |\n",
      "+-----------+---------------+-----------+-----------------------------+\n",
      "| chol(244) | trestbps(134) | target(0) |                      0.0000 |\n",
      "+-----------+---------------+-----------+-----------------------------+\n",
      "| chol(244) | trestbps(134) | target(1) |                      0.0000 |\n",
      "+-----------+---------------+-----------+-----------------------------+\n",
      "| chol(244) | trestbps(148) | target(0) |                      0.0432 |\n",
      "+-----------+---------------+-----------+-----------------------------+\n",
      "| chol(244) | trestbps(148) | target(1) |                      0.0679 |\n",
      "+-----------+---------------+-----------+-----------------------------+\n",
      "| chol(244) | trestbps(150) | target(0) |                      0.0000 |\n",
      "+-----------+---------------+-----------+-----------------------------+\n",
      "| chol(244) | trestbps(150) | target(1) |                      0.0000 |\n",
      "+-----------+---------------+-----------+-----------------------------+\n",
      "| chol(244) | trestbps(160) | target(0) |                      0.0000 |\n",
      "+-----------+---------------+-----------+-----------------------------+\n",
      "| chol(244) | trestbps(160) | target(1) |                      0.0000 |\n",
      "+-----------+---------------+-----------+-----------------------------+\n",
      "| chol(283) | trestbps(108) | target(0) |                      0.0000 |\n",
      "+-----------+---------------+-----------+-----------------------------+\n",
      "| chol(283) | trestbps(108) | target(1) |                      0.0000 |\n",
      "+-----------+---------------+-----------+-----------------------------+\n",
      "| chol(283) | trestbps(110) | target(0) |                      0.0000 |\n",
      "+-----------+---------------+-----------+-----------------------------+\n",
      "| chol(283) | trestbps(110) | target(1) |                      0.0000 |\n",
      "+-----------+---------------+-----------+-----------------------------+\n",
      "| chol(283) | trestbps(130) | target(0) |                      0.0000 |\n",
      "+-----------+---------------+-----------+-----------------------------+\n",
      "| chol(283) | trestbps(130) | target(1) |                      0.0000 |\n",
      "+-----------+---------------+-----------+-----------------------------+\n",
      "| chol(283) | trestbps(134) | target(0) |                      0.0000 |\n",
      "+-----------+---------------+-----------+-----------------------------+\n",
      "| chol(283) | trestbps(134) | target(1) |                      0.0000 |\n",
      "+-----------+---------------+-----------+-----------------------------+\n",
      "| chol(283) | trestbps(148) | target(0) |                      0.0000 |\n",
      "+-----------+---------------+-----------+-----------------------------+\n",
      "| chol(283) | trestbps(148) | target(1) |                      0.0000 |\n",
      "+-----------+---------------+-----------+-----------------------------+\n",
      "| chol(283) | trestbps(150) | target(0) |                      0.0432 |\n",
      "+-----------+---------------+-----------+-----------------------------+\n",
      "| chol(283) | trestbps(150) | target(1) |                      0.0679 |\n",
      "+-----------+---------------+-----------+-----------------------------+\n",
      "| chol(283) | trestbps(160) | target(0) |                      0.0000 |\n",
      "+-----------+---------------+-----------+-----------------------------+\n",
      "| chol(283) | trestbps(160) | target(1) |                      0.0000 |\n",
      "+-----------+---------------+-----------+-----------------------------+\n",
      "| chol(286) | trestbps(108) | target(0) |                      0.0000 |\n",
      "+-----------+---------------+-----------+-----------------------------+\n",
      "| chol(286) | trestbps(108) | target(1) |                      0.0000 |\n",
      "+-----------+---------------+-----------+-----------------------------+\n",
      "| chol(286) | trestbps(110) | target(0) |                      0.0000 |\n",
      "+-----------+---------------+-----------+-----------------------------+\n",
      "| chol(286) | trestbps(110) | target(1) |                      0.0000 |\n",
      "+-----------+---------------+-----------+-----------------------------+\n",
      "| chol(286) | trestbps(130) | target(0) |                      0.0000 |\n",
      "+-----------+---------------+-----------+-----------------------------+\n",
      "| chol(286) | trestbps(130) | target(1) |                      0.0000 |\n",
      "+-----------+---------------+-----------+-----------------------------+\n",
      "| chol(286) | trestbps(134) | target(0) |                      0.0000 |\n",
      "+-----------+---------------+-----------+-----------------------------+\n",
      "| chol(286) | trestbps(134) | target(1) |                      0.0000 |\n",
      "+-----------+---------------+-----------+-----------------------------+\n",
      "| chol(286) | trestbps(148) | target(0) |                      0.0000 |\n",
      "+-----------+---------------+-----------+-----------------------------+\n",
      "| chol(286) | trestbps(148) | target(1) |                      0.0000 |\n",
      "+-----------+---------------+-----------+-----------------------------+\n",
      "| chol(286) | trestbps(150) | target(0) |                      0.0000 |\n",
      "+-----------+---------------+-----------+-----------------------------+\n",
      "| chol(286) | trestbps(150) | target(1) |                      0.0000 |\n",
      "+-----------+---------------+-----------+-----------------------------+\n",
      "| chol(286) | trestbps(160) | target(0) |                      0.0679 |\n",
      "+-----------+---------------+-----------+-----------------------------+\n",
      "| chol(286) | trestbps(160) | target(1) |                      0.0432 |\n",
      "+-----------+---------------+-----------+-----------------------------+\n"
     ]
    },
    {
     "name": "stderr",
     "output_type": "stream",
     "text": [
      "\n"
     ]
    }
   ],
   "source": [
    "# Marginal dist - plotting joint distribution over 3 variables\n",
    "cct = jt_heart.query(['trestbps', 'chol', 'target'])\n",
    "print(cct)"
   ]
  },
  {
   "cell_type": "code",
   "execution_count": 31,
   "id": "dedicated-prediction",
   "metadata": {},
   "outputs": [
    {
     "name": "stderr",
     "output_type": "stream",
     "text": [
      "Eliminating: fbs: 100%|██████████| 3/3 [00:00<00:00, 85.40it/s]"
     ]
    },
    {
     "name": "stdout",
     "output_type": "stream",
     "text": [
      "{'cp': <DiscreteFactor representing phi(cp:4) at 0x7f4e3ce722b0>, 'chol': <DiscreteFactor representing phi(chol:9) at 0x7f4e3ce72be0>, 'target': <DiscreteFactor representing phi(target:2) at 0x7f4e3ce72940>}\n",
      "+-------+-----------+\n",
      "| cp    |   phi(cp) |\n",
      "+=======+===========+\n",
      "| cp(0) |    0.2222 |\n",
      "+-------+-----------+\n",
      "| cp(1) |    0.2222 |\n",
      "+-------+-----------+\n",
      "| cp(2) |    0.3333 |\n",
      "+-------+-----------+\n",
      "| cp(3) |    0.2222 |\n",
      "+-------+-----------+\n"
     ]
    },
    {
     "name": "stderr",
     "output_type": "stream",
     "text": [
      "\n"
     ]
    }
   ],
   "source": [
    "# Marginal dist - not joint, 3 separate distributions\n",
    "cct2 = jt_heart.query(['cp', 'chol', 'target'], joint=False)\n",
    "print(cct2)\n",
    "print(cct2['cp'])"
   ]
  },
  {
   "cell_type": "markdown",
   "id": "varied-holiday",
   "metadata": {},
   "source": [
    "### Factortables that were being printed as strings extracted into array"
   ]
  },
  {
   "cell_type": "code",
   "execution_count": 34,
   "id": "liable-probability",
   "metadata": {
    "scrolled": true
   },
   "outputs": [
    {
     "data": {
      "text/plain": [
       "[[0, 0, 0.1111111111111111],\n",
       " [0, 1, 0.0],\n",
       " [0, 2, 0.0],\n",
       " [0, 3, 0.0],\n",
       " [0, 4, 0.0],\n",
       " [0, 5, 0.0],\n",
       " [0, 6, 0.0],\n",
       " [1, 0, 0.0],\n",
       " [1, 1, 0.0],\n",
       " [1, 2, 0.1111111111111111],\n",
       " [1, 3, 0.0],\n",
       " [1, 4, 0.0],\n",
       " [1, 5, 0.0],\n",
       " [1, 6, 0.0],\n",
       " [2, 0, 0.0],\n",
       " [2, 1, 0.0],\n",
       " [2, 2, 0.0],\n",
       " [2, 3, 0.1111111111111111],\n",
       " [2, 4, 0.0],\n",
       " [2, 5, 0.0],\n",
       " [2, 6, 0.0],\n",
       " [3, 0, 0.0],\n",
       " [3, 1, 0.0],\n",
       " [3, 2, 0.1111111111111111],\n",
       " [3, 3, 0.0],\n",
       " [3, 4, 0.0],\n",
       " [3, 5, 0.0],\n",
       " [3, 6, 0.0],\n",
       " [4, 0, 0.0],\n",
       " [4, 1, 0.1111111111111111],\n",
       " [4, 2, 0.0],\n",
       " [4, 3, 0.0],\n",
       " [4, 4, 0.0],\n",
       " [4, 5, 0.0],\n",
       " [4, 6, 0.0],\n",
       " [5, 0, 0.0],\n",
       " [5, 1, 0.0],\n",
       " [5, 2, 0.0],\n",
       " [5, 3, 0.0],\n",
       " [5, 4, 0.0],\n",
       " [5, 5, 0.1111111111111111],\n",
       " [5, 6, 0.0],\n",
       " [6, 0, 0.0],\n",
       " [6, 1, 0.0],\n",
       " [6, 2, 0.0],\n",
       " [6, 3, 0.0],\n",
       " [6, 4, 0.1111111111111111],\n",
       " [6, 5, 0.0],\n",
       " [6, 6, 0.0],\n",
       " [7, 0, 0.0],\n",
       " [7, 1, 0.0],\n",
       " [7, 2, 0.0],\n",
       " [7, 3, 0.0],\n",
       " [7, 4, 0.0],\n",
       " [7, 5, 0.1111111111111111],\n",
       " [7, 6, 0.0],\n",
       " [8, 0, 0.0],\n",
       " [8, 1, 0.0],\n",
       " [8, 2, 0.0],\n",
       " [8, 3, 0.0],\n",
       " [8, 4, 0.0],\n",
       " [8, 5, 0.0],\n",
       " [8, 6, 0.1111111111111111]]"
      ]
     },
     "execution_count": 34,
     "metadata": {},
     "output_type": "execute_result"
    }
   ],
   "source": [
    "tc_ft = get_factortable(tc)\n",
    "tc_ft"
   ]
  },
  {
   "cell_type": "code",
   "execution_count": 35,
   "id": "reverse-optimization",
   "metadata": {},
   "outputs": [
    {
     "data": {
      "text/plain": [
       "[[0, 0, 0, 0.03703703703703704],\n",
       " [0, 0, 1, 0.07407407407407408],\n",
       " [0, 1, 0, 0.0],\n",
       " [0, 1, 1, 0.0],\n",
       " [0, 2, 0, 0.0],\n",
       " [0, 2, 1, 0.0],\n",
       " [0, 3, 0, 0.0],\n",
       " [0, 3, 1, 0.0],\n",
       " [0, 4, 0, 0.0],\n",
       " [0, 4, 1, 0.0],\n",
       " [0, 5, 0, 0.0],\n",
       " [0, 5, 1, 0.0],\n",
       " [0, 6, 0, 0.0],\n",
       " [0, 6, 1, 0.0],\n",
       " [1, 0, 0, 0.0],\n",
       " [1, 0, 1, 0.0],\n",
       " [1, 1, 0, 0.0],\n",
       " [1, 1, 1, 0.0],\n",
       " [1, 2, 0, 0.03703703703703704],\n",
       " [1, 2, 1, 0.07407407407407408],\n",
       " [1, 3, 0, 0.0],\n",
       " [1, 3, 1, 0.0],\n",
       " [1, 4, 0, 0.0],\n",
       " [1, 4, 1, 0.0],\n",
       " [1, 5, 0, 0.0],\n",
       " [1, 5, 1, 0.0],\n",
       " [1, 6, 0, 0.0],\n",
       " [1, 6, 1, 0.0],\n",
       " [2, 0, 0, 0.0],\n",
       " [2, 0, 1, 0.0],\n",
       " [2, 1, 0, 0.0],\n",
       " [2, 1, 1, 0.0],\n",
       " [2, 2, 0, 0.0],\n",
       " [2, 2, 1, 0.0],\n",
       " [2, 3, 0, 0.04320987654320988],\n",
       " [2, 3, 1, 0.06790123456790124],\n",
       " [2, 4, 0, 0.0],\n",
       " [2, 4, 1, 0.0],\n",
       " [2, 5, 0, 0.0],\n",
       " [2, 5, 1, 0.0],\n",
       " [2, 6, 0, 0.0],\n",
       " [2, 6, 1, 0.0],\n",
       " [3, 0, 0, 0.0],\n",
       " [3, 0, 1, 0.0],\n",
       " [3, 1, 0, 0.0],\n",
       " [3, 1, 1, 0.0],\n",
       " [3, 2, 0, 0.04320987654320988],\n",
       " [3, 2, 1, 0.06790123456790124],\n",
       " [3, 3, 0, 0.0],\n",
       " [3, 3, 1, 0.0],\n",
       " [3, 4, 0, 0.0],\n",
       " [3, 4, 1, 0.0],\n",
       " [3, 5, 0, 0.0],\n",
       " [3, 5, 1, 0.0],\n",
       " [3, 6, 0, 0.0],\n",
       " [3, 6, 1, 0.0],\n",
       " [4, 0, 0, 0.0],\n",
       " [4, 0, 1, 0.0],\n",
       " [4, 1, 0, 0.06790123456790124],\n",
       " [4, 1, 1, 0.04320987654320988],\n",
       " [4, 2, 0, 0.0],\n",
       " [4, 2, 1, 0.0],\n",
       " [4, 3, 0, 0.0],\n",
       " [4, 3, 1, 0.0],\n",
       " [4, 4, 0, 0.0],\n",
       " [4, 4, 1, 0.0],\n",
       " [4, 5, 0, 0.0],\n",
       " [4, 5, 1, 0.0],\n",
       " [4, 6, 0, 0.0],\n",
       " [4, 6, 1, 0.0],\n",
       " [5, 0, 0, 0.0],\n",
       " [5, 0, 1, 0.0],\n",
       " [5, 1, 0, 0.0],\n",
       " [5, 1, 1, 0.0],\n",
       " [5, 2, 0, 0.0],\n",
       " [5, 2, 1, 0.0],\n",
       " [5, 3, 0, 0.0],\n",
       " [5, 3, 1, 0.0],\n",
       " [5, 4, 0, 0.0],\n",
       " [5, 4, 1, 0.0],\n",
       " [5, 5, 0, 0.03703703703703704],\n",
       " [5, 5, 1, 0.07407407407407408],\n",
       " [5, 6, 0, 0.0],\n",
       " [5, 6, 1, 0.0],\n",
       " [6, 0, 0, 0.0],\n",
       " [6, 0, 1, 0.0],\n",
       " [6, 1, 0, 0.0],\n",
       " [6, 1, 1, 0.0],\n",
       " [6, 2, 0, 0.0],\n",
       " [6, 2, 1, 0.0],\n",
       " [6, 3, 0, 0.0],\n",
       " [6, 3, 1, 0.0],\n",
       " [6, 4, 0, 0.04320987654320988],\n",
       " [6, 4, 1, 0.06790123456790124],\n",
       " [6, 5, 0, 0.0],\n",
       " [6, 5, 1, 0.0],\n",
       " [6, 6, 0, 0.0],\n",
       " [6, 6, 1, 0.0],\n",
       " [7, 0, 0, 0.0],\n",
       " [7, 0, 1, 0.0],\n",
       " [7, 1, 0, 0.0],\n",
       " [7, 1, 1, 0.0],\n",
       " [7, 2, 0, 0.0],\n",
       " [7, 2, 1, 0.0],\n",
       " [7, 3, 0, 0.0],\n",
       " [7, 3, 1, 0.0],\n",
       " [7, 4, 0, 0.0],\n",
       " [7, 4, 1, 0.0],\n",
       " [7, 5, 0, 0.04320987654320988],\n",
       " [7, 5, 1, 0.06790123456790124],\n",
       " [7, 6, 0, 0.0],\n",
       " [7, 6, 1, 0.0],\n",
       " [8, 0, 0, 0.0],\n",
       " [8, 0, 1, 0.0],\n",
       " [8, 1, 0, 0.0],\n",
       " [8, 1, 1, 0.0],\n",
       " [8, 2, 0, 0.0],\n",
       " [8, 2, 1, 0.0],\n",
       " [8, 3, 0, 0.0],\n",
       " [8, 3, 1, 0.0],\n",
       " [8, 4, 0, 0.0],\n",
       " [8, 4, 1, 0.0],\n",
       " [8, 5, 0, 0.0],\n",
       " [8, 5, 1, 0.0],\n",
       " [8, 6, 0, 0.06790123456790124],\n",
       " [8, 6, 1, 0.04320987654320988]]"
      ]
     },
     "execution_count": 35,
     "metadata": {},
     "output_type": "execute_result"
    }
   ],
   "source": [
    "cct_ft = get_factortable(cct)\n",
    "cct_ft"
   ]
  },
  {
   "cell_type": "markdown",
   "id": "basic-privilege",
   "metadata": {},
   "source": [
    "### Plotting factor tables into 3d plots for 2 and 3 variables"
   ]
  },
  {
   "cell_type": "code",
   "execution_count": 38,
   "id": "occupational-quest",
   "metadata": {},
   "outputs": [
    {
     "data": {
      "image/png": "[encoded data removed]",
      "text/plain": [
       "<Figure size 432x288 with 1 Axes>"
      ]
     },
     "metadata": {
      "needs_background": "light"
     },
     "output_type": "display_data"
    }
   ],
   "source": [
    "plot_2vars(tc_ft)"
   ]
  },
  {
   "cell_type": "code",
   "execution_count": 37,
   "id": "differential-gilbert",
   "metadata": {},
   "outputs": [
    {
     "data": {
      "image/png": "[encoded data removed]",
      "text/plain": [
       "<Figure size 432x288 with 2 Axes>"
      ]
     },
     "metadata": {
      "needs_background": "light"
     },
     "output_type": "display_data"
    }
   ],
   "source": [
    "plot_3vars(cct_ft)"
   ]
  },
  {
   "cell_type": "code",
   "execution_count": null,
   "id": "statewide-argentina",
   "metadata": {},
   "outputs": [],
   "source": []
  },
  {
   "cell_type": "code",
   "execution_count": null,
   "id": "advanced-burns",
   "metadata": {},
   "outputs": [],
   "source": []
  },
  {
   "cell_type": "code",
   "execution_count": null,
   "id": "bulgarian-event",
   "metadata": {},
   "outputs": [],
   "source": []
  },
  {
   "cell_type": "markdown",
   "id": "soviet-devices",
   "metadata": {},
   "source": [
    "## Repeat the same with larger graph and more rows of data "
   ]
  },
  {
   "cell_type": "markdown",
   "id": "distinguished-debate",
   "metadata": {},
   "source": [
    "### Starter Code"
   ]
  },
  {
   "cell_type": "code",
   "execution_count": 50,
   "id": "arbitrary-mouth",
   "metadata": {},
   "outputs": [],
   "source": [
    "feat_graph = {'cp': [], 'trestbps': ['chol', 'fbs'], 'chol': ['fbs'], 'fbs': [], 'restecg': ['chol', 'fbs'], 'thalach': [], 'exang': [], 'oldpeak': ['thalach'], 'ca': [], 'thal': [], 'target': ['cp', 'trestbps', 'chol', 'fbs', 'restecg', 'exang', 'oldpeak', 'ca', 'thal']}"
   ]
  },
  {
   "cell_type": "code",
   "execution_count": 51,
   "id": "technological-technical",
   "metadata": {},
   "outputs": [],
   "source": [
    "bn = nx.DiGraph()\n",
    "bn.add_nodes_from(feat_graph.keys())\n",
    "\n",
    "for k, v in feat_graph.items():\n",
    "    bn.add_edges_from(([(t, k) for t in v]))"
   ]
  },
  {
   "cell_type": "code",
   "execution_count": 52,
   "id": "overall-headquarters",
   "metadata": {},
   "outputs": [
    {
     "data": {
      "image/png": "[encoded data removed]",
      "text/plain": [
       "<Figure size 288x288 with 1 Axes>"
      ]
     },
     "metadata": {},
     "output_type": "display_data"
    }
   ],
   "source": [
    "display(bn)"
   ]
  },
  {
   "cell_type": "code",
   "execution_count": 47,
   "id": "pharmaceutical-review",
   "metadata": {},
   "outputs": [
    {
     "data": {
      "text/html": [
       "<div>\n",
       "<style scoped>\n",
       "    .dataframe tbody tr th:only-of-type {\n",
       "        vertical-align: middle;\n",
       "    }\n",
       "\n",
       "    .dataframe tbody tr th {\n",
       "        vertical-align: top;\n",
       "    }\n",
       "\n",
       "    .dataframe thead th {\n",
       "        text-align: right;\n",
       "    }\n",
       "</style>\n",
       "<table border=\"1\" class=\"dataframe\">\n",
       "  <thead>\n",
       "    <tr style=\"text-align: right;\">\n",
       "      <th></th>\n",
       "      <th>cp</th>\n",
       "      <th>trestbps</th>\n",
       "      <th>chol</th>\n",
       "      <th>fbs</th>\n",
       "      <th>restecg</th>\n",
       "      <th>thalach</th>\n",
       "      <th>exang</th>\n",
       "      <th>oldpeak</th>\n",
       "      <th>ca</th>\n",
       "      <th>thal</th>\n",
       "      <th>target</th>\n",
       "    </tr>\n",
       "  </thead>\n",
       "  <tbody>\n",
       "    <tr>\n",
       "      <th>204</th>\n",
       "      <td>0</td>\n",
       "      <td>160</td>\n",
       "      <td>164</td>\n",
       "      <td>0</td>\n",
       "      <td>0</td>\n",
       "      <td>145</td>\n",
       "      <td>0</td>\n",
       "      <td>6.2</td>\n",
       "      <td>3</td>\n",
       "      <td>3</td>\n",
       "      <td>0</td>\n",
       "    </tr>\n",
       "  </tbody>\n",
       "</table>\n",
       "</div>"
      ],
      "text/plain": [
       "     cp  trestbps  chol  fbs  restecg  thalach  exang  oldpeak  ca  thal  \\\n",
       "204   0       160   164    0        0      145      0      6.2   3     3   \n",
       "\n",
       "     target  \n",
       "204       0  "
      ]
     },
     "execution_count": 47,
     "metadata": {},
     "output_type": "execute_result"
    }
   ],
   "source": [
    "data_sample = data.sample(n=1)\n",
    "data_sample"
   ]
  },
  {
   "cell_type": "code",
   "execution_count": 48,
   "id": "fourth-separation",
   "metadata": {},
   "outputs": [],
   "source": [
    "bn_model = BayesianModel(bn.edges())"
   ]
  },
  {
   "cell_type": "code",
   "execution_count": 49,
   "id": "exotic-documentation",
   "metadata": {},
   "outputs": [
    {
     "data": {
      "image/png": "[encoded data removed]",
      "text/plain": [
       "<Figure size 288x288 with 1 Axes>"
      ]
     },
     "metadata": {},
     "output_type": "display_data"
    }
   ],
   "source": [
    "bn_model.fit(data_sample)\n",
    "jt = BeliefPropagation(bn_model)\n",
    "jt.calibrate()\n",
    "display(jt.junction_tree)"
   ]
  },
  {
   "cell_type": "code",
   "execution_count": null,
   "id": "numeric-ocean",
   "metadata": {},
   "outputs": [],
   "source": []
  }
 ],
 "metadata": {
  "kernelspec": {
   "display_name": "Python 3",
   "language": "python",
   "name": "python3"
  },
  "language_info": {
   "codemirror_mode": {
    "name": "ipython",
    "version": 3
   },
   "file_extension": ".py",
   "mimetype": "text/x-python",
   "name": "python",
   "nbconvert_exporter": "python",
   "pygments_lexer": "ipython3",
   "version": "3.7.0"
  }
 },
 "nbformat": 4,
 "nbformat_minor": 5
}
